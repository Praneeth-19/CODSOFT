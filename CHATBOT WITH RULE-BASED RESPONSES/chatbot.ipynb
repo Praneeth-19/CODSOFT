{
 "cells": [
  {
   "cell_type": "markdown",
   "id": "6b377ec3",
   "metadata": {},
   "source": [
    "# CHATBOT WITH RULE-BASED RESPONSES"
   ]
  },
  {
   "cell_type": "markdown",
   "id": "da02728f",
   "metadata": {},
   "source": [
    "Build a simple chatbot that responds to user inputs based on predefined rules. Use if-else statements or pattern matching techniques to identify user queries and provide appropriate responses. This will give you a basic understanding of natural language processing and conversation flow."
   ]
  },
  {
   "cell_type": "code",
   "execution_count": null,
   "id": "fcde82b7",
   "metadata": {},
   "outputs": [
    {
     "name": "stdout",
     "output_type": "stream",
     "text": [
      "User: hello\n",
      "Chatbot:  Hello! What can I help you with?\n",
      "User: what is the future of AI?\n",
      "Chatbot:  The future of AI is very exciting! It is likely to have a major impact on many aspects of our lives, including the way we work, learn, and interact with the world around us.\n",
      "User: what can you do?\n",
      "Chatbot:  I can answer your questions, provide information, and help you with tasks.\n",
      "User: what is a neural network?\n",
      "Chatbot:  A neural network is a type of machine learning model that is inspired by the human brain. It consists of a series of interconnected nodes, or neurons, that can learn to process information.\n",
      "User: what is deep learning?\n",
      "Chatbot:  Deep learning is a type of machine learning that uses artificial neural networks with multiple layers. It is used for a wide variety of tasks, including image recognition, natural language processing, and speech recognition.\n",
      "User: goodbye\n",
      "Chatbot:  Goodbye! Have a nice day.\n"
     ]
    }
   ],
   "source": [
    "import random\n",
    "import re\n",
    "rules = [\n",
    "    ('hello', 'Hello! What can I help you with?'),\n",
    "    ('goodbye', 'Goodbye! Have a nice day.'),\n",
    "    ('thank you', 'You are welcome!'),\n",
    "    ('what is your name?', 'My name is Chatbot.'),\n",
    "    ('what can you do?', 'I can answer your questions, provide information, and help you with tasks.'),\n",
    "    ('I want to learn more about AI', 'Sure, I can help you with that. What would you like to know?'),\n",
    "    ('what is the difference between supervised and unsupervised learning?', 'Supervised learning is a type of machine learning where the model is trained on a dataset of labeled data. Unsupervised learning is a type of machine learning where the model is trained on a dataset of unlabeled data.'),\n",
    "    ('what is a neural network?', 'A neural network is a type of machine learning model that is inspired by the human brain. It consists of a series of interconnected nodes, or neurons, that can learn to process information.'),\n",
    "    ('what is deep learning?', 'Deep learning is a type of machine learning that uses artificial neural networks with multiple layers. It is used for a wide variety of tasks, including image recognition, natural language processing, and speech recognition.'),\n",
    "    ('what is reinforcement learning?', 'Reinforcement learning is a type of machine learning where the model learns by interacting with its environment and receiving rewards or punishments for its actions.'),\n",
    "    ('what is the future of AI?', 'The future of AI is very exciting! It is likely to have a major impact on many aspects of our lives, including the way we work, learn, and interact with the world around us.')\n",
    "]\n",
    "\n",
    "def generate_response(question):\n",
    "    for rule in rules:\n",
    "        if re.search(rule[0], question):\n",
    "            return rule[1]\n",
    "        \n",
    "def start_chatbot():\n",
    "    while True:\n",
    "        question = input('User: ')\n",
    "        response = generate_response(question)\n",
    "        print('Chatbot: ', response)\n",
    "\n",
    "if __name__ == '__main__':\n",
    "    start_chatbot()"
   ]
  },
  {
   "cell_type": "code",
   "execution_count": null,
   "id": "e575a423",
   "metadata": {},
   "outputs": [],
   "source": []
  }
 ],
 "metadata": {
  "kernelspec": {
   "display_name": "Python 3 (ipykernel)",
   "language": "python",
   "name": "python3"
  },
  "language_info": {
   "codemirror_mode": {
    "name": "ipython",
    "version": 3
   },
   "file_extension": ".py",
   "mimetype": "text/x-python",
   "name": "python",
   "nbconvert_exporter": "python",
   "pygments_lexer": "ipython3",
   "version": "3.11.5"
  }
 },
 "nbformat": 4,
 "nbformat_minor": 5
}
