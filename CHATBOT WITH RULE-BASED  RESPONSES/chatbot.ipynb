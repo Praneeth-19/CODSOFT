{
 "cells": [
  {
   "cell_type": "markdown",
   "id": "6b377ec3",
   "metadata": {},
   "source": [
    "# CHATBOT WITH RULE-BASED RESPONSES"
   ]
  },
  {
   "cell_type": "markdown",
   "id": "da02728f",
   "metadata": {},
   "source": [
    "Build a simple chatbot that responds to user inputs based on predefined rules. Use if-else statements or pattern matching techniques to identify user queries and provide appropriate responses. This will give you a basic understanding of natural language processing and conversation flow."
   ]
  },
  {
   "cell_type": "code",
   "execution_count": 12,
   "id": "fcde82b7",
   "metadata": {},
   "outputs": [
    {
     "name": "stdout",
     "output_type": "stream",
     "text": [
      "User: hai\n",
      "Chatbot: hello.... How I help U\n"
     ]
    }
   ],
   "source": [
    "def chatbot(ui):\n",
    "    ui = ui.lower()\n",
    "    if \"hai\" in ui:\n",
    "        return \"hello.... How I help U\"\n",
    "    elif \"how are you\" in ui:\n",
    "        return \"I'm a COMPUTER CHATBOT .. What about YOU?? And Thank For Asking\"\n",
    "    elif \"GoodBye\" in ui:\n",
    "        return \"Anyway GoodBye.. Thank for connecting me \"\n",
    "    else:\n",
    "        return \"I'm sorry, I don't hunderstand that. Can you please ask something else?\"\n",
    "    \n",
    "query = input(\"User: \")\n",
    "res = chatbot(query)\n",
    "print(\"Chatbot:\",res)"
   ]
  }
 ],
 "metadata": {
  "kernelspec": {
   "display_name": "Python 3 (ipykernel)",
   "language": "python",
   "name": "python3"
  },
  "language_info": {
   "codemirror_mode": {
    "name": "ipython",
    "version": 3
   },
   "file_extension": ".py",
   "mimetype": "text/x-python",
   "name": "python",
   "nbconvert_exporter": "python",
   "pygments_lexer": "ipython3",
   "version": "3.11.5"
  }
 },
 "nbformat": 4,
 "nbformat_minor": 5
}
